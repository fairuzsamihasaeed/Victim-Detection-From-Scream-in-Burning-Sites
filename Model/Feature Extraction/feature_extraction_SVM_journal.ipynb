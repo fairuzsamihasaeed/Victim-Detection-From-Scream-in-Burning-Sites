{
 "cells": [
  {
   "cell_type": "code",
   "execution_count": 1,
   "metadata": {},
   "outputs": [],
   "source": [
    "import glob\n",
    "import os\n",
    "import pandas as pd\n",
    "import numpy as np\n",
    "import librosa\n",
    "import seaborn as sns\n",
    "import matplotlib.pyplot as plt"
   ]
  },
  {
   "cell_type": "code",
   "execution_count": 2,
   "metadata": {},
   "outputs": [],
   "source": [
    "# create lists to put the results\n",
    "# label=2    # for scream\n",
    "mean_mfcc1_list = []\n",
    "mean_mfcc2_list = []\n",
    "mean_mfcc3_list = []\n",
    "mean_mfcc4_list = []\n",
    "mean_mfcc5_list = []\n",
    "mean_mfcc6_list = []\n",
    "mean_mfcc7_list = []\n",
    "mean_mfcc8_list = []\n",
    "mean_mfcc9_list = []\n",
    "mean_mfcc10_list = []\n",
    "mean_mfcc11_list = []\n",
    "mean_mfcc12_list = []\n",
    "mean_mfcc13_list = []\n",
    "mean_zcr_list = []\n",
    "mean_centroid_list = []\n",
    "mean_RMSE_list = []"
   ]
  },
  {
   "cell_type": "code",
   "execution_count": 4,
   "metadata": {},
   "outputs": [],
   "source": [
    "#starting from 0 files\n",
    "i = 0\n",
    "Directory = r'C:/Users/fairu/Desktop/dataset/real data/scream'\n",
    "file_list = os.listdir(Directory)"
   ]
  },
  {
   "cell_type": "code",
   "execution_count": 5,
   "metadata": {},
   "outputs": [
    {
     "data": {
      "text/plain": [
       "8"
      ]
     },
     "execution_count": 5,
     "metadata": {},
     "output_type": "execute_result"
    }
   ],
   "source": [
    "len(file_list)"
   ]
  },
  {
   "cell_type": "code",
   "execution_count": null,
   "metadata": {},
   "outputs": [],
   "source": [
    "# file_list.remove('desktop.ini')"
   ]
  },
  {
   "cell_type": "code",
   "execution_count": null,
   "metadata": {},
   "outputs": [],
   "source": [
    "# len(file_list)"
   ]
  },
  {
   "cell_type": "code",
   "execution_count": 6,
   "metadata": {},
   "outputs": [],
   "source": [
    "#Extract librosa features in a function\n",
    "\n",
    "def extractFeatures_lib(aud, nfft, hop):\n",
    "    #MFCC - 13 features per audio file\n",
    "    \n",
    "    mean_mfcc = np.mean(librosa.feature.mfcc(y=aud, sr=16000, n_mfcc=13, n_fft=nfft, hop_length=hop, window = 'hann').T,axis=0)\n",
    "    \n",
    "    #zero crossing rate - 1 feature per audio file\n",
    "    zcr = librosa.feature.zero_crossing_rate(aud, frame_length=nfft, hop_length=hop)\n",
    "    zcr_n=np.sort(zcr)[::-1]\n",
    "    p = zcr.shape[1]\n",
    "    len = np.int(0.1*zcr.shape[1])\n",
    "    zcr_10 = zcr_n[0,(p-len):]\n",
    "    avg_zcr = np.mean(zcr_10)\n",
    "    \n",
    "    #Spectral centroid - 1 feature per audio file\n",
    "    avg_centroid = np.mean(librosa.feature.spectral_centroid(y=aud, sr=16000, n_fft=nfft, hop_length=hop, window='hann', center=True, pad_mode='reflect'))\n",
    "    \n",
    "    #RMS energy - 1 feature per audio file\n",
    "    avg_RMSE = np.mean(librosa.feature.rms(y=aud, frame_length=nfft, hop_length=hop, center=True, pad_mode= 'reflect'))\n",
    "    return mean_mfcc, avg_zcr, avg_centroid, avg_RMSE"
   ]
  },
  {
   "cell_type": "code",
   "execution_count": 7,
   "metadata": {},
   "outputs": [],
   "source": [
    "i=0\n",
    "for filename in file_list:\n",
    "    aud, sr = librosa.load(Directory + '/'+ file_list[i], sr = 16000)\n",
    "    \n",
    "    # Get audio and apply feature extraction\n",
    "    # Pitch floor determines frame length. Frame length = 3/Pitch floor = 3/94 = 0.032 seconds\n",
    "    (mean_mfcc, avg_zcr, avg_centroid, avg_RMSE) = extractFeatures_lib(aud, 512, 256) #audio, frame length and hop length\n",
    "    \n",
    "    # MFCC (1-13)\n",
    "    mean_mfcc1_list.append(mean_mfcc[0])\n",
    "    mean_mfcc2_list.append(mean_mfcc[1])\n",
    "    mean_mfcc3_list.append(mean_mfcc[2])\n",
    "    mean_mfcc4_list.append(mean_mfcc[3])\n",
    "    mean_mfcc5_list.append(mean_mfcc[4])\n",
    "    mean_mfcc6_list.append(mean_mfcc[5])\n",
    "    mean_mfcc7_list.append(mean_mfcc[6])\n",
    "    mean_mfcc8_list.append(mean_mfcc[7])\n",
    "    mean_mfcc9_list.append(mean_mfcc[8])\n",
    "    mean_mfcc10_list.append(mean_mfcc[9])\n",
    "    mean_mfcc11_list.append(mean_mfcc[10])\n",
    "    mean_mfcc12_list.append(mean_mfcc[11])\n",
    "    mean_mfcc13_list.append(mean_mfcc[12])\n",
    "\n",
    "    # ZCR\n",
    "    mean_zcr_list.append(avg_zcr)\n",
    "    \n",
    "    #Centroid\n",
    "    mean_centroid_list.append(avg_centroid)\n",
    "    \n",
    "    #RMSE\n",
    "    mean_RMSE_list.append(avg_RMSE)\n",
    "    \n",
    "    i+=1"
   ]
  },
  {
   "cell_type": "code",
   "execution_count": null,
   "metadata": {},
   "outputs": [],
   "source": [
    "#save data in pandas\n",
    "len(mean_mfcc13_list)"
   ]
  },
  {
   "cell_type": "code",
   "execution_count": 8,
   "metadata": {},
   "outputs": [
    {
     "name": "stdout",
     "output_type": "stream",
     "text": [
      "Done!\n"
     ]
    }
   ],
   "source": [
    "#save data in pandas dataframe\n",
    "df = pd.DataFrame(np.column_stack([mean_mfcc1_list, mean_mfcc2_list, mean_mfcc3_list, mean_mfcc4_list, mean_mfcc5_list, mean_mfcc6_list, mean_mfcc7_list, mean_mfcc8_list, mean_mfcc9_list, mean_mfcc10_list, mean_mfcc11_list, mean_mfcc12_list, mean_mfcc13_list, mean_zcr_list, mean_centroid_list, mean_RMSE_list]), \n",
    "                               columns=['mean_mfcc1', 'mean_mfcc2', 'mean_mfcc3', 'mean_mfcc4', 'mean_mfcc5', 'mean_mfcc6', 'mean_mfcc7', 'mean_mfcc8', 'mean_mfcc9', 'mean_mfcc10', 'mean_mfcc11', 'mean_mfcc12', 'mean_mfcc13', 'mean_zcr', 'mean_centroid', 'mean_RMSE'])\n",
    "\n",
    "label = 0 #for scream\n",
    "df['label'] = label\n",
    "#save new data in excel file\n",
    "df.to_csv('check_scream.csv')\n",
    "\n",
    "print(\"Done!\")  "
   ]
  },
  {
   "cell_type": "code",
   "execution_count": null,
   "metadata": {},
   "outputs": [],
   "source": []
  }
 ],
 "metadata": {
  "kernelspec": {
   "display_name": "Python 3",
   "language": "python",
   "name": "python3"
  },
  "language_info": {
   "codemirror_mode": {
    "name": "ipython",
    "version": 3
   },
   "file_extension": ".py",
   "mimetype": "text/x-python",
   "name": "python",
   "nbconvert_exporter": "python",
   "pygments_lexer": "ipython3",
   "version": "3.8.5"
  }
 },
 "nbformat": 4,
 "nbformat_minor": 4
}
